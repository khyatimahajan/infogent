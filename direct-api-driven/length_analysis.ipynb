{
 "cells": [
  {
   "cell_type": "code",
   "execution_count": 1,
   "metadata": {},
   "outputs": [],
   "source": [
    "import pandas as pd\n",
    "import json\n",
    "import numpy as np\n",
    "import matplotlib.pyplot as plt\n",
    "import seaborn as sns\n",
    "import re\n",
    "import os\n",
    "import tiktoken"
   ]
  },
  {
   "cell_type": "code",
   "execution_count": 2,
   "metadata": {},
   "outputs": [],
   "source": [
    "enc = tiktoken.get_encoding(\"o200k_base\")"
   ]
  },
  {
   "cell_type": "code",
   "execution_count": 3,
   "metadata": {},
   "outputs": [
    {
     "name": "stdout",
     "output_type": "stream",
     "text": [
      "Number of records: 549\n",
      "\n",
      "First record keys: ['navigator_output', 'aggregated_output', 'langchain_messages', 'aggregator_messages', 'time', 'id', 'gold_answer', 'question', 'wiki_errors']\n"
     ]
    }
   ],
   "source": [
    "# with open('results/fanoutqa_dev_agg.json', 'r') as f:\n",
    "with open('results/frames_agg.json', 'r') as f:\n",
    "    data = json.load(f)\n",
    "\n",
    "print(f\"Number of records: {len(data)}\")\n",
    "print(\"\\nFirst record keys:\", list(data[0].keys()))"
   ]
  },
  {
   "cell_type": "code",
   "execution_count": 4,
   "metadata": {},
   "outputs": [
    {
     "data": {
      "text/plain": [
       "[{'thoughts': {'text': \"I need to start by identifying the 15th First Lady of the United States to find out her mother's name.\",\n",
       "   'reasoning': \"Finding the 15th First Lady will give me the first name I need, which is the first step in answering the user's query.\",\n",
       "   'plan': \"- Search for the 15th First Lady of the United States\\n- Extract the relevant information about her mother\\n- Search for the second assassinated president and extract information about his mother's maiden name\",\n",
       "   'criticism': \"I need to ensure I'm breaking down the query correctly and gathering information step by step.\",\n",
       "   'speak': \"I'll start by searching for the 15th First Lady of the United States to find her mother's name.\"},\n",
       "  'command': {'name': 'search',\n",
       "   'args': {'tool_input': '15th First Lady of the United States'}}},\n",
       " {'thoughts': {'text': \"I need to gather information about the 15th First Lady of the United States and the second assassinated president to solve the query regarding my future wife's name.\",\n",
       "   'reasoning': 'The question requires identifying specific individuals related to historical figures, so understanding who the 15th First Lady is and who the second assassinated president is will help piece together the full name.',\n",
       "   'plan': \"- Search for the 15th First Lady of the United States\\n- Extract her mother's first name\\n- Search for the second assassinated president\\n- Extract his mother's maiden name\\n- Combine the information to find the future wife's name\",\n",
       "   'criticism': 'I should ensure that I break down the search into manageable pieces to avoid confusion and ensure accuracy.',\n",
       "   'speak': \"I'll start by searching for information about the 15th First Lady of the United States.\"},\n",
       "  'command': {'name': 'search',\n",
       "   'args': {'type': 'Who is the 15th First Lady of the United States?'}}},\n",
       " {'thoughts': {'text': \"The search results did not directly provide information about the 15th First Lady of the United States. I need to refine my search to specifically find her name and her mother's name.\",\n",
       "   'reasoning': \"I need to identify the 15th First Lady and then her mother's name to proceed with the query. The current results mostly focus on Presidents and not the First Ladies.\",\n",
       "   'plan': \"- Search specifically for the 15th First Lady of the United States.\\n- Extract her name and her mother's name for further steps.\\n- Continue to the next part of the query.\",\n",
       "   'criticism': 'I should have used a more specific query to directly target the information I need about the 15th First Lady.',\n",
       "   'speak': 'I will refine my search to find out who the 15th First Lady of the United States is.'},\n",
       "  'command': {'name': 'search',\n",
       "   'args': {'type': \"Who is the 15th First Lady of the United States and what is her mother's name?\"}}},\n",
       " {'thoughts': {'text': \"I need to find information about the 15th First Lady of the United States and the name of her mother. This will help in determining the future wife's first name.\",\n",
       "   'reasoning': \"The 15th First Lady is Lady Bird Johnson, and her mother’s name is Claudia Alta Taylor. Therefore, I need to confirm her mother's name.\",\n",
       "   'plan': \"- Search for the 15th First Lady of the United States.\\n- Extract information regarding her mother's name.\\n- Proceed to the next part of the query after gathering this information.\",\n",
       "   'criticism': 'I should have directly searched for the mother of Lady Bird Johnson initially instead of gathering irrelevant information.',\n",
       "   'speak': \"I will now gather information about Lady Bird Johnson and her mother's name.\"},\n",
       "  'command': {'name': 'extract',\n",
       "   'args': {'arg name': 'https://en.wikipedia.org/wiki/Lady_Bird_Johnson'}}},\n",
       " {'thoughts': {'text': \"I need to find information about the second assassinated president of the United States and his mother's maiden name. The second assassinated president is James A. Garfield.\",\n",
       "   'reasoning': \"By identifying Garfield's mother and her maiden name, I can gather the surname required for the future wife's name.\",\n",
       "   'plan': \"- Search for information about James A. Garfield's mother.\\n- Extract details about her maiden name.\\n- Combine this information with the previous findings.\",\n",
       "   'criticism': 'I should ensure that I gather the right information efficiently without redundant searches.',\n",
       "   'speak': \"I will now search for James A. Garfield's mother's maiden name.\"},\n",
       "  'command': {'name': 'search',\n",
       "   'args': {'tool_input': 'James A. Garfield mother maiden name'}}},\n",
       " {'thoughts': {'text': 'I need to break down the multi-hop query into manageable parts.',\n",
       "   'reasoning': 'The query involves finding the names associated with the 15th First Lady of the United States and the second assassinated president.',\n",
       "   'plan': \"- Search for the 15th First Lady of the United States and her mother's name\\n- Search for the second assassinated president and his mother's maiden name\\n- Combine the findings to determine the future wife's full name\",\n",
       "   'criticism': 'I must ensure I search for the most relevant information sequentially to avoid confusion.',\n",
       "   'speak': \"I'll start by searching for the 15th First Lady of the United States and her mother's name.\"},\n",
       "  'command': {'name': 'search',\n",
       "   'args': {'tool_input': '15th First Lady of the United States'}}},\n",
       " {'thoughts': {'text': 'I need to gather information about the 15th First Lady of the United States and the second assassinated president.',\n",
       "   'reasoning': \"Identifying the 15th First Lady will provide the first name of my future wife's mother, and the second assassinated president will give me the surname of my future wife.\",\n",
       "   'plan': '- Search for the 15th First Lady of the United States\\n- Search for the second assassinated president of the United States\\n- Extract relevant names from the gathered information',\n",
       "   'criticism': 'I need to ensure that I am efficient with my searches and avoid unnecessary repetition.',\n",
       "   'speak': \"I'm gathering information about the 15th First Lady and the second assassinated president to determine my future wife's name.\"},\n",
       "  'command': {'name': 'search',\n",
       "   'args': {'tool_input': '15th First Lady of the United States'}}},\n",
       " {'thoughts': {'text': \"I need to gather information about the 15th First Lady of the United States and the second assassinated president's mother.\",\n",
       "   'reasoning': \"I need to find the names of the individuals mentioned in the multi-hop query to determine the future wife's name.\",\n",
       "   'plan': \"- Search for the 15th First Lady of the United States and her mother's name.\\n- Once I have that, search for the second assassinated president and his mother's maiden name.\\n- Finally, combine the information to determine the future wife's name.\",\n",
       "   'criticism': 'I need to ensure that I am searching for specific names to avoid confusion during the aggregation process.',\n",
       "   'speak': \"I will start by searching for the 15th First Lady of the United States and her mother's name.\"},\n",
       "  'command': {'name': 'search',\n",
       "   'args': {'tool_input': '15th First Lady of the United States'}}},\n",
       " {'thoughts': {'text': \"I need to identify the 15th First Lady of the United States and her mother's name.\",\n",
       "   'reasoning': 'This is the first step in breaking down the multi-hop question based on the entities involved.',\n",
       "   'plan': \"- Search for the 15th First Lady of the United States.\\n- Find her mother's name.\\n- Use this information for the next steps.\",\n",
       "   'criticism': 'I need to focus on the specific details of the question to avoid unnecessary searches.',\n",
       "   'speak': 'I will begin by searching for the 15th First Lady of the United States.'},\n",
       "  'command': {'name': 'search',\n",
       "   'args': {'tool_input': '15th First Lady of the United States'}}},\n",
       " {'thoughts': {'text': 'I need to gather information about the 15th First Lady of the United States and the second assassinated president to answer the user query about their future wife.',\n",
       "   'reasoning': \"The query involves specific historical figures, so I will start by searching for the 15th First Lady to find her name and her mother's name.\",\n",
       "   'plan': \"- Search for the 15th First Lady of the United States.\\n- Extract her mother's name from the relevant information.\\n- Then search for the second assassinated president to find his mother's maiden name.\",\n",
       "   'criticism': 'I should have quickly identified the specific individuals involved in the query to avoid delays.',\n",
       "   'speak': 'I will start by finding out who the 15th First Lady of the United States is.'},\n",
       "  'command': {'name': 'search',\n",
       "   'args': {'tool_input': '15th First Lady of the United States'}}},\n",
       " {'thoughts': {'text': \"I need to gather information about the 15th First Lady of the United States and the second assassinated president to find out their mothers' names.\",\n",
       "   'reasoning': \"I will first search for the name of the 15th First Lady of the United States as it is the first step in determining the future wife's name.\",\n",
       "   'plan': \"- Search for the 15th First Lady of the United States\\n- Extract information about her mother\\n- Search for the second assassinated president's mother's maiden name\\n- Extract that information\\n- Combine findings to determine the future wife's name\",\n",
       "   'criticism': 'I need to ensure that I stay focused on the steps of the multi-hop question and not get sidetracked.',\n",
       "   'speak': 'I will start by finding out who the 15th First Lady of the United States is.'},\n",
       "  'command': {'name': 'search',\n",
       "   'args': {'tool_input': '15th First Lady of the United States'}}},\n",
       " {'thoughts': {'text': \"I need to gather specific information about the 15th first lady of the United States and the second assassinated president to answer the user's question about their future wife's name.\",\n",
       "   'reasoning': \"To find the future wife's name, I first need to identify the 15th first lady's mother and the second assassinated president's mother's maiden name.\",\n",
       "   'plan': \"- Search for the 15th first lady of the United States\\n- Extract information about her mother's name\\n- Search for the second assassinated president\\n- Extract information about his mother's maiden name\",\n",
       "   'criticism': 'I should ensure that I keep my searches focused on the specific details needed to minimize unnecessary steps.',\n",
       "   'speak': \"I'll start by searching for the 15th first lady of the United States.\"},\n",
       "  'command': {'name': 'search',\n",
       "   'args': {'tool_input': '15th first lady of the United States'}}},\n",
       " {'thoughts': {'text': \"I need to find the first name of the 15th first lady of the United States and her mother's name to determine my future wife's first name.\",\n",
       "   'reasoning': \"First, I will search for information about the 15th first lady of the United States to find her first name and her mother's name.\",\n",
       "   'plan': \"- Search for the 15th first lady of the United States\\n- Extract her name and her mother's name\\n- Search for the second assassinated president's mother's maiden name next\",\n",
       "   'criticism': 'I need to ensure I stay focused on the task and not get distracted by irrelevant details.',\n",
       "   'speak': 'I will first search for the 15th first lady of the United States.'},\n",
       "  'command': {'name': 'search',\n",
       "   'args': {'tool_input': '15th first lady of the United States'}}},\n",
       " {'thoughts': {'text': \"I need to find out the name of the 15th First Lady of the United States and her mother's name.\",\n",
       "   'reasoning': \"The first step in the multi-hop question involves identifying the 15th First Lady and her mother's name.\",\n",
       "   'plan': '- Search for the 15th First Lady of the United States\\n- Extract relevant information about her mother\\n- Proceed to the next part of the query after obtaining this information',\n",
       "   'criticism': 'I should have started with a more specific search to avoid ambiguity in identifying the correct First Lady.',\n",
       "   'speak': \"I will first search for the 15th First Lady of the United States and her mother's name.\"},\n",
       "  'command': {'name': 'search',\n",
       "   'args': {'tool_input': '15th First Lady of the United States mother name'}}},\n",
       " {'thoughts': {'text': 'I need to find the name of the 15th First Lady of the United States and the name of the mother of the second assassinated president.',\n",
       "   'reasoning': 'The next step is to identify the 15th First Lady of the United States to find out her first name. I will start by extracting information about Lady Bird Johnson, who is the 15th First Lady.',\n",
       "   'plan': \"- Extract information from Lady Bird Johnson's Wikipedia page.\\n- Look for her mother's name to find the relevant first name.\\n- Then, identify the second assassinated president and their mother's maiden name.\",\n",
       "   'criticism': 'I should have directly focused on Lady Bird Johnson first instead of listing multiple options. This could have streamlined my process.',\n",
       "   'speak': \"I'll start by extracting information about Lady Bird Johnson to find out her first name.\"},\n",
       "  'command': {'name': 'extract',\n",
       "   'args': {'url': 'https://en.wikipedia.org/wiki/Lady_Bird_Johnson'}}},\n",
       " {'thoughts': {'text': \"I need to find information about Abraham Lincoln and his mother's maiden name.\",\n",
       "   'reasoning': \"The next step is to search for Abraham Lincoln's mother and her maiden name, as this is essential to answering the user's query.\",\n",
       "   'plan': \"- Search for information on Abraham Lincoln's mother.\\n- Identify her name and maiden name.\\n- Combine this with the first name from Lady Bird Johnson's information to finalize the user's future wife's name.\",\n",
       "   'criticism': \"I should have anticipated that I would need to search for Lincoln's mother sooner. I need to improve my foresight in planning.\",\n",
       "   'speak': \"Now, I will search for Abraham Lincoln's mother and her maiden name.\"},\n",
       "  'command': {'name': 'search',\n",
       "   'args': {'tool_input': 'Abraham Lincoln mother name and maiden name'}}},\n",
       " {'thoughts': {'text': \"I need to find out the first name of the 15th First Lady of the United States and her mother's name. Then, I need to find the maiden name of the mother of the second assassinated president.\",\n",
       "   'reasoning': \"The query requires identifying specific names to deduce the future wife's name based on familial connections.\",\n",
       "   'plan': \"- Search for the 15th First Lady of the United States.\\n- Find out her mother's name.\\n- Search for the second assassinated president and his mother's maiden name.\",\n",
       "   'criticism': 'I need to ensure that I stay focused on the specific names rather than getting distracted by related but irrelevant information.',\n",
       "   'speak': 'I will start by searching for the 15th First Lady of the United States.'},\n",
       "  'command': {'name': 'search',\n",
       "   'args': {'arg name': '15th First Lady of the United States'}}},\n",
       " {'thoughts': {'text': \"I need to gather the name of the 15th First Lady of the United States and her mother's name.\",\n",
       "   'reasoning': \"To solve the user's question, I need to identify the 15th First Lady and her mother's name first.\",\n",
       "   'plan': \"- Search for the 15th First Lady of the United States\\n- Extract information about her mother's name\\n- Use that information in conjunction with the next search about the second assassinated president\",\n",
       "   'criticism': 'I need to ensure I break down the task clearly to avoid confusion and gather information efficiently.',\n",
       "   'speak': \"I'll start by searching for the 15th First Lady of the United States and her mother's name.\"},\n",
       "  'command': {'name': 'search',\n",
       "   'args': {'tool_input': '15th First Lady of the United States'}}},\n",
       " {'thoughts': {'text': 'I need to identify the 15th first lady of the United States and the second assassinated president to find the names related to my query.',\n",
       "   'reasoning': 'The query involves identifying two specific individuals: the mother of the 15th first lady and the mother of the second assassinated president. The first step is to find out who these individuals are.',\n",
       "   'plan': '- Search for the 15th first lady of the United States.\\n- Then, search for the second assassinated president.\\n- After gathering this information, I can extract the relevant names needed for the final answer.',\n",
       "   'criticism': 'I should focus on one search at a time to avoid confusion and ensure clarity in gathering information.',\n",
       "   'speak': \"I'll start by searching for the 15th first lady of the United States.\"},\n",
       "  'command': {'name': 'search',\n",
       "   'args': {'tool_input': '15th first lady of the United States'}}},\n",
       " {'thoughts': {'text': \"I need to identify the 15th first lady of the United States to find out her mother's first name and also identify the second assassinated president to find out his mother's maiden name.\",\n",
       "   'reasoning': 'By breaking down the query, I will first search for the 15th first lady and then the second assassinated president to gather the necessary information about names.',\n",
       "   'plan': \"- Search for the 15th first lady of the United States.\\n- Extract her mother's name.\\n- Search for the second assassinated president.\\n- Extract his mother's maiden name.\\n- Combine the names to deduce the future wife's name.\",\n",
       "   'criticism': 'I need to ensure that I stay focused on gathering one piece of information at a time to avoid confusion.',\n",
       "   'speak': \"I'll start by searching for the 15th first lady of the United States.\"},\n",
       "  'command': {'name': 'search',\n",
       "   'args': {'tool_input': '15th first lady of the United States'}}}]"
      ]
     },
     "execution_count": 4,
     "metadata": {},
     "output_type": "execute_result"
    }
   ],
   "source": [
    "def extract_langchain_messages(data_item):\n",
    "    messages = []\n",
    "    for d in data_item.get(\"langchain_messages\", []):\n",
    "        if d.startswith(\"{\"):\n",
    "            try:\n",
    "                messages.append(json.loads(d))\n",
    "            except json.JSONDecodeError:\n",
    "                messages.append(d)\n",
    "    return messages\n",
    "\n",
    "extract_langchain_messages(data[0])"
   ]
  },
  {
   "cell_type": "code",
   "execution_count": 5,
   "metadata": {},
   "outputs": [
    {
     "data": {
      "text/plain": [
       "18.775956284153004"
      ]
     },
     "execution_count": 5,
     "metadata": {},
     "output_type": "execute_result"
    }
   ],
   "source": [
    "len_messages = [len(extract_langchain_messages(d)) for d in data]\n",
    "np.mean(len_messages)"
   ]
  },
  {
   "cell_type": "code",
   "execution_count": 6,
   "metadata": {},
   "outputs": [
    {
     "data": {
      "text/plain": [
       "['{\\'thoughts\\': \"The content provides information about Lady Bird Johnson, including her role as the First Lady of the United States and details about her family, specifically her mother\\'s name.\", \\'paragraphs\\': [\\'Claudia Alta \"Lady Bird\" Johnson (née Taylor; December 22, 1912 – July 11, 2007) was the first lady of the United States from 1963 to 1969 as the wife of President Lyndon B. Johnson. She served as the second lady from 1961 to 1963 when her husband was vice president.\\', \\'Her mother was Minnie Lee Pattillo (1874–1918), who loved opera and felt out of place in Karnack; she was often in poor emotional and physical health. When Lady Bird was five years old, Minnie fell down a flight of stairs while pregnant and died of complications of miscarriage in 1918.\\']}',\n",
       " '{\\'thoughts\\': \"The provided information identifies the 15th First Lady of the United States, Claudia Alta \\'Lady Bird\\' Johnson, and also gives the name of her mother, Minnie Lee Pattillo. This is relevant because the user needs to know the mother\\'s name of the 15th First Lady to progress in determining the future wife\\'s name. I will add this information to the aggregated list.\", \\'actions\\': [\\'ADD(P1)\\', \\'ADD(P2)\\'], \\'feedback\\': \\'Please search for information on the second assassinated president of the United States and specifically look for the name of his mother and her maiden name. This will help in identifying the surname needed for the user query. You have 8 iterations left.\\'}',\n",
       " '{\\'thoughts\\': \"The content provides information about Lady Bird Johnson\\'s early life, including details about her mother, Minnie Lee Pattillo, which directly addresses the navigator\\'s search for the name of the 15th First Lady of the United States\\' mother.\", \\'paragraphs\\': [\\'Lady Bird Johnson, born Claudia Alta Taylor on December 22, 1912, was the daughter of Minnie Lee Pattillo and Thomas Jefferson Johnson Taylor. Her mother, Minnie, was often in poor emotional and physical health and died of complications from a miscarriage when Lady Bird was five years old. Minnie was described as a tall, eccentric woman from an old and aristocratic Alabama family, who loved opera and was known for her unique lifestyle.\\', \"Minnie Lee Pattillo\\'s influence on Lady Bird was significant, as she introduced her to the classics and grand opera, although she struggled with her health. Lady Bird was largely raised by her maternal aunt Effie Pattillo after her mother\\'s death, which shaped her early experiences and appreciation for beauty in nature.\"]}',\n",
       " '{\\'thoughts\\': \"The provided passages further elaborate on the life of Minnie Lee Pattillo, Lady Bird Johnson\\'s mother, but they do not add new information relevant to the user query. The user query requires the surname based on the second assassinated president\\'s mother\\'s maiden name. Therefore, I will not add these passages to the aggregated information. I need to continue searching for the name of the mother and her maiden name of the second assassinated president of the United States.\", \\'actions\\': [], \\'feedback\\': \\'Please search for the second assassinated president of the United States, Abraham Lincoln, and find out the name of his mother and her maiden name. This information is crucial for completing the user query. You have 7 iterations left.\\'}']"
      ]
     },
     "execution_count": 6,
     "metadata": {},
     "output_type": "execute_result"
    }
   ],
   "source": [
    "def extract_aggregated_messages(data_item):\n",
    "    messages = []\n",
    "    for d in data_item.get(\"aggregator_messages\", []):\n",
    "        for k, v in d.items():\n",
    "            if \"log\" in k:\n",
    "                messages.append(str(v))\n",
    "    return messages\n",
    "\n",
    "\n",
    "extract_aggregated_messages(data[0])"
   ]
  },
  {
   "cell_type": "code",
   "execution_count": 7,
   "metadata": {},
   "outputs": [
    {
     "data": {
      "text/plain": [
       "'{\\'thoughts\\': {\\'text\\': \"I need to start by identifying the 15th First Lady of the United States to find out her mother\\'s name.\", \\'reasoning\\': \"Finding the 15th First Lady will give me the first name I need, which is the first step in answering the user\\'s query.\", \\'plan\\': \"- Search for the 15th First Lady of the United States\\\\n- Extract the relevant information about her mother\\\\n- Search for the second assassinated president and extract information about his mother\\'s maiden name\", \\'criticism\\': \"I need to ensure I\\'m breaking down the query correctly and gathering information step by step.\", \\'speak\\': \"I\\'ll start by searching for the 15th First Lady of the United States to find her mother\\'s name.\"}, \\'command\\': {\\'name\\': \\'search\\', \\'args\\': {\\'tool_input\\': \\'15th First Lady of the United States\\'}}}\\n{\\'thoughts\\': {\\'text\\': \"I need to gather information about the 15th First Lady of the United States and the second assassinated president to solve the query regarding my future wife\\'s name.\", \\'reasoning\\': \\'The question requires identifying specific individuals related to historical figures, so understanding who the 15th First Lady is and who the second assassinated president is will help piece together the full name.\\', \\'plan\\': \"- Search for the 15th First Lady of the United States\\\\n- Extract her mother\\'s first name\\\\n- Search for the second assassinated president\\\\n- Extract his mother\\'s maiden name\\\\n- Combine the information to find the future wife\\'s name\", \\'criticism\\': \\'I should ensure that I break down the search into manageable pieces to avoid confusion and ensure accuracy.\\', \\'speak\\': \"I\\'ll start by searching for information about the 15th First Lady of the United States.\"}, \\'command\\': {\\'name\\': \\'search\\', \\'args\\': {\\'type\\': \\'Who is the 15th First Lady of the United States?\\'}}}\\n{\\'thoughts\\': {\\'text\\': \"The search results did not directly provide information about the 15th First Lady of the United States. I need to refine my search to specifically find her name and her mother\\'s name.\", \\'reasoning\\': \"I need to identify the 15th First Lady and then her mother\\'s name to proceed with the query. The current results mostly focus on Presidents and not the First Ladies.\", \\'plan\\': \"- Search specifically for the 15th First Lady of the United States.\\\\n- Extract her name and her mother\\'s name for further steps.\\\\n- Continue to the next part of the query.\", \\'criticism\\': \\'I should have used a more specific query to directly target the information I need about the 15th First Lady.\\', \\'speak\\': \\'I will refine my search to find out who the 15th First Lady of the United States is.\\'}, \\'command\\': {\\'name\\': \\'search\\', \\'args\\': {\\'type\\': \"Who is the 15th First Lady of the United States and what is her mother\\'s name?\"}}}\\n{\\'thoughts\\': {\\'text\\': \"I need to find information about the 15th First Lady of the United States and the name of her mother. This will help in determining the future wife\\'s first name.\", \\'reasoning\\': \"The 15th First Lady is Lady Bird Johnson, and her mother’s name is Claudia Alta Taylor. Therefore, I need to confirm her mother\\'s name.\", \\'plan\\': \"- Search for the 15th First Lady of the United States.\\\\n- Extract information regarding her mother\\'s name.\\\\n- Proceed to the next part of the query after gathering this information.\", \\'criticism\\': \\'I should have directly searched for the mother of Lady Bird Johnson initially instead of gathering irrelevant information.\\', \\'speak\\': \"I will now gather information about Lady Bird Johnson and her mother\\'s name.\"}, \\'command\\': {\\'name\\': \\'extract\\', \\'args\\': {\\'arg name\\': \\'https://en.wikipedia.org/wiki/Lady_Bird_Johnson\\'}}}\\n{\\'thoughts\\': {\\'text\\': \"I need to find information about the second assassinated president of the United States and his mother\\'s maiden name. The second assassinated president is James A. Garfield.\", \\'reasoning\\': \"By identifying Garfield\\'s mother and her maiden name, I can gather the surname required for the future wife\\'s name.\", \\'plan\\': \"- Search for information about James A. Garfield\\'s mother.\\\\n- Extract details about her maiden name.\\\\n- Combine this information with the previous findings.\", \\'criticism\\': \\'I should ensure that I gather the right information efficiently without redundant searches.\\', \\'speak\\': \"I will now search for James A. Garfield\\'s mother\\'s maiden name.\"}, \\'command\\': {\\'name\\': \\'search\\', \\'args\\': {\\'tool_input\\': \\'James A. Garfield mother maiden name\\'}}}\\n{\\'thoughts\\': {\\'text\\': \\'I need to break down the multi-hop query into manageable parts.\\', \\'reasoning\\': \\'The query involves finding the names associated with the 15th First Lady of the United States and the second assassinated president.\\', \\'plan\\': \"- Search for the 15th First Lady of the United States and her mother\\'s name\\\\n- Search for the second assassinated president and his mother\\'s maiden name\\\\n- Combine the findings to determine the future wife\\'s full name\", \\'criticism\\': \\'I must ensure I search for the most relevant information sequentially to avoid confusion.\\', \\'speak\\': \"I\\'ll start by searching for the 15th First Lady of the United States and her mother\\'s name.\"}, \\'command\\': {\\'name\\': \\'search\\', \\'args\\': {\\'tool_input\\': \\'15th First Lady of the United States\\'}}}\\n{\\'thoughts\\': {\\'text\\': \\'I need to gather information about the 15th First Lady of the United States and the second assassinated president.\\', \\'reasoning\\': \"Identifying the 15th First Lady will provide the first name of my future wife\\'s mother, and the second assassinated president will give me the surname of my future wife.\", \\'plan\\': \\'- Search for the 15th First Lady of the United States\\\\n- Search for the second assassinated president of the United States\\\\n- Extract relevant names from the gathered information\\', \\'criticism\\': \\'I need to ensure that I am efficient with my searches and avoid unnecessary repetition.\\', \\'speak\\': \"I\\'m gathering information about the 15th First Lady and the second assassinated president to determine my future wife\\'s name.\"}, \\'command\\': {\\'name\\': \\'search\\', \\'args\\': {\\'tool_input\\': \\'15th First Lady of the United States\\'}}}\\n{\\'thoughts\\': {\\'text\\': \"I need to gather information about the 15th First Lady of the United States and the second assassinated president\\'s mother.\", \\'reasoning\\': \"I need to find the names of the individuals mentioned in the multi-hop query to determine the future wife\\'s name.\", \\'plan\\': \"- Search for the 15th First Lady of the United States and her mother\\'s name.\\\\n- Once I have that, search for the second assassinated president and his mother\\'s maiden name.\\\\n- Finally, combine the information to determine the future wife\\'s name.\", \\'criticism\\': \\'I need to ensure that I am searching for specific names to avoid confusion during the aggregation process.\\', \\'speak\\': \"I will start by searching for the 15th First Lady of the United States and her mother\\'s name.\"}, \\'command\\': {\\'name\\': \\'search\\', \\'args\\': {\\'tool_input\\': \\'15th First Lady of the United States\\'}}}\\n{\\'thoughts\\': {\\'text\\': \"I need to identify the 15th First Lady of the United States and her mother\\'s name.\", \\'reasoning\\': \\'This is the first step in breaking down the multi-hop question based on the entities involved.\\', \\'plan\\': \"- Search for the 15th First Lady of the United States.\\\\n- Find her mother\\'s name.\\\\n- Use this information for the next steps.\", \\'criticism\\': \\'I need to focus on the specific details of the question to avoid unnecessary searches.\\', \\'speak\\': \\'I will begin by searching for the 15th First Lady of the United States.\\'}, \\'command\\': {\\'name\\': \\'search\\', \\'args\\': {\\'tool_input\\': \\'15th First Lady of the United States\\'}}}\\n{\\'thoughts\\': {\\'text\\': \\'I need to gather information about the 15th First Lady of the United States and the second assassinated president to answer the user query about their future wife.\\', \\'reasoning\\': \"The query involves specific historical figures, so I will start by searching for the 15th First Lady to find her name and her mother\\'s name.\", \\'plan\\': \"- Search for the 15th First Lady of the United States.\\\\n- Extract her mother\\'s name from the relevant information.\\\\n- Then search for the second assassinated president to find his mother\\'s maiden name.\", \\'criticism\\': \\'I should have quickly identified the specific individuals involved in the query to avoid delays.\\', \\'speak\\': \\'I will start by finding out who the 15th First Lady of the United States is.\\'}, \\'command\\': {\\'name\\': \\'search\\', \\'args\\': {\\'tool_input\\': \\'15th First Lady of the United States\\'}}}\\n{\\'thoughts\\': {\\'text\\': \"I need to gather information about the 15th First Lady of the United States and the second assassinated president to find out their mothers\\' names.\", \\'reasoning\\': \"I will first search for the name of the 15th First Lady of the United States as it is the first step in determining the future wife\\'s name.\", \\'plan\\': \"- Search for the 15th First Lady of the United States\\\\n- Extract information about her mother\\\\n- Search for the second assassinated president\\'s mother\\'s maiden name\\\\n- Extract that information\\\\n- Combine findings to determine the future wife\\'s name\", \\'criticism\\': \\'I need to ensure that I stay focused on the steps of the multi-hop question and not get sidetracked.\\', \\'speak\\': \\'I will start by finding out who the 15th First Lady of the United States is.\\'}, \\'command\\': {\\'name\\': \\'search\\', \\'args\\': {\\'tool_input\\': \\'15th First Lady of the United States\\'}}}\\n{\\'thoughts\\': {\\'text\\': \"I need to gather specific information about the 15th first lady of the United States and the second assassinated president to answer the user\\'s question about their future wife\\'s name.\", \\'reasoning\\': \"To find the future wife\\'s name, I first need to identify the 15th first lady\\'s mother and the second assassinated president\\'s mother\\'s maiden name.\", \\'plan\\': \"- Search for the 15th first lady of the United States\\\\n- Extract information about her mother\\'s name\\\\n- Search for the second assassinated president\\\\n- Extract information about his mother\\'s maiden name\", \\'criticism\\': \\'I should ensure that I keep my searches focused on the specific details needed to minimize unnecessary steps.\\', \\'speak\\': \"I\\'ll start by searching for the 15th first lady of the United States.\"}, \\'command\\': {\\'name\\': \\'search\\', \\'args\\': {\\'tool_input\\': \\'15th first lady of the United States\\'}}}\\n{\\'thoughts\\': {\\'text\\': \"I need to find the first name of the 15th first lady of the United States and her mother\\'s name to determine my future wife\\'s first name.\", \\'reasoning\\': \"First, I will search for information about the 15th first lady of the United States to find her first name and her mother\\'s name.\", \\'plan\\': \"- Search for the 15th first lady of the United States\\\\n- Extract her name and her mother\\'s name\\\\n- Search for the second assassinated president\\'s mother\\'s maiden name next\", \\'criticism\\': \\'I need to ensure I stay focused on the task and not get distracted by irrelevant details.\\', \\'speak\\': \\'I will first search for the 15th first lady of the United States.\\'}, \\'command\\': {\\'name\\': \\'search\\', \\'args\\': {\\'tool_input\\': \\'15th first lady of the United States\\'}}}\\n{\\'thoughts\\': {\\'text\\': \"I need to find out the name of the 15th First Lady of the United States and her mother\\'s name.\", \\'reasoning\\': \"The first step in the multi-hop question involves identifying the 15th First Lady and her mother\\'s name.\", \\'plan\\': \\'- Search for the 15th First Lady of the United States\\\\n- Extract relevant information about her mother\\\\n- Proceed to the next part of the query after obtaining this information\\', \\'criticism\\': \\'I should have started with a more specific search to avoid ambiguity in identifying the correct First Lady.\\', \\'speak\\': \"I will first search for the 15th First Lady of the United States and her mother\\'s name.\"}, \\'command\\': {\\'name\\': \\'search\\', \\'args\\': {\\'tool_input\\': \\'15th First Lady of the United States mother name\\'}}}\\n{\\'thoughts\\': {\\'text\\': \\'I need to find the name of the 15th First Lady of the United States and the name of the mother of the second assassinated president.\\', \\'reasoning\\': \\'The next step is to identify the 15th First Lady of the United States to find out her first name. I will start by extracting information about Lady Bird Johnson, who is the 15th First Lady.\\', \\'plan\\': \"- Extract information from Lady Bird Johnson\\'s Wikipedia page.\\\\n- Look for her mother\\'s name to find the relevant first name.\\\\n- Then, identify the second assassinated president and their mother\\'s maiden name.\", \\'criticism\\': \\'I should have directly focused on Lady Bird Johnson first instead of listing multiple options. This could have streamlined my process.\\', \\'speak\\': \"I\\'ll start by extracting information about Lady Bird Johnson to find out her first name.\"}, \\'command\\': {\\'name\\': \\'extract\\', \\'args\\': {\\'url\\': \\'https://en.wikipedia.org/wiki/Lady_Bird_Johnson\\'}}}\\n{\\'thoughts\\': {\\'text\\': \"I need to find information about Abraham Lincoln and his mother\\'s maiden name.\", \\'reasoning\\': \"The next step is to search for Abraham Lincoln\\'s mother and her maiden name, as this is essential to answering the user\\'s query.\", \\'plan\\': \"- Search for information on Abraham Lincoln\\'s mother.\\\\n- Identify her name and maiden name.\\\\n- Combine this with the first name from Lady Bird Johnson\\'s information to finalize the user\\'s future wife\\'s name.\", \\'criticism\\': \"I should have anticipated that I would need to search for Lincoln\\'s mother sooner. I need to improve my foresight in planning.\", \\'speak\\': \"Now, I will search for Abraham Lincoln\\'s mother and her maiden name.\"}, \\'command\\': {\\'name\\': \\'search\\', \\'args\\': {\\'tool_input\\': \\'Abraham Lincoln mother name and maiden name\\'}}}\\n{\\'thoughts\\': {\\'text\\': \"I need to find out the first name of the 15th First Lady of the United States and her mother\\'s name. Then, I need to find the maiden name of the mother of the second assassinated president.\", \\'reasoning\\': \"The query requires identifying specific names to deduce the future wife\\'s name based on familial connections.\", \\'plan\\': \"- Search for the 15th First Lady of the United States.\\\\n- Find out her mother\\'s name.\\\\n- Search for the second assassinated president and his mother\\'s maiden name.\", \\'criticism\\': \\'I need to ensure that I stay focused on the specific names rather than getting distracted by related but irrelevant information.\\', \\'speak\\': \\'I will start by searching for the 15th First Lady of the United States.\\'}, \\'command\\': {\\'name\\': \\'search\\', \\'args\\': {\\'arg name\\': \\'15th First Lady of the United States\\'}}}\\n{\\'thoughts\\': {\\'text\\': \"I need to gather the name of the 15th First Lady of the United States and her mother\\'s name.\", \\'reasoning\\': \"To solve the user\\'s question, I need to identify the 15th First Lady and her mother\\'s name first.\", \\'plan\\': \"- Search for the 15th First Lady of the United States\\\\n- Extract information about her mother\\'s name\\\\n- Use that information in conjunction with the next search about the second assassinated president\", \\'criticism\\': \\'I need to ensure I break down the task clearly to avoid confusion and gather information efficiently.\\', \\'speak\\': \"I\\'ll start by searching for the 15th First Lady of the United States and her mother\\'s name.\"}, \\'command\\': {\\'name\\': \\'search\\', \\'args\\': {\\'tool_input\\': \\'15th First Lady of the United States\\'}}}\\n{\\'thoughts\\': {\\'text\\': \\'I need to identify the 15th first lady of the United States and the second assassinated president to find the names related to my query.\\', \\'reasoning\\': \\'The query involves identifying two specific individuals: the mother of the 15th first lady and the mother of the second assassinated president. The first step is to find out who these individuals are.\\', \\'plan\\': \\'- Search for the 15th first lady of the United States.\\\\n- Then, search for the second assassinated president.\\\\n- After gathering this information, I can extract the relevant names needed for the final answer.\\', \\'criticism\\': \\'I should focus on one search at a time to avoid confusion and ensure clarity in gathering information.\\', \\'speak\\': \"I\\'ll start by searching for the 15th first lady of the United States.\"}, \\'command\\': {\\'name\\': \\'search\\', \\'args\\': {\\'tool_input\\': \\'15th first lady of the United States\\'}}}\\n{\\'thoughts\\': {\\'text\\': \"I need to identify the 15th first lady of the United States to find out her mother\\'s first name and also identify the second assassinated president to find out his mother\\'s maiden name.\", \\'reasoning\\': \\'By breaking down the query, I will first search for the 15th first lady and then the second assassinated president to gather the necessary information about names.\\', \\'plan\\': \"- Search for the 15th first lady of the United States.\\\\n- Extract her mother\\'s name.\\\\n- Search for the second assassinated president.\\\\n- Extract his mother\\'s maiden name.\\\\n- Combine the names to deduce the future wife\\'s name.\", \\'criticism\\': \\'I need to ensure that I stay focused on gathering one piece of information at a time to avoid confusion.\\', \\'speak\\': \"I\\'ll start by searching for the 15th first lady of the United States.\"}, \\'command\\': {\\'name\\': \\'search\\', \\'args\\': {\\'tool_input\\': \\'15th first lady of the United States\\'}}}\\n{\\'thoughts\\': \"The content provides information about Lady Bird Johnson, including her role as the First Lady of the United States and details about her family, specifically her mother\\'s name.\", \\'paragraphs\\': [\\'Claudia Alta \"Lady Bird\" Johnson (née Taylor; December 22, 1912 – July 11, 2007) was the first lady of the United States from 1963 to 1969 as the wife of President Lyndon B. Johnson. She served as the second lady from 1961 to 1963 when her husband was vice president.\\', \\'Her mother was Minnie Lee Pattillo (1874–1918), who loved opera and felt out of place in Karnack; she was often in poor emotional and physical health. When Lady Bird was five years old, Minnie fell down a flight of stairs while pregnant and died of complications of miscarriage in 1918.\\']}\\n{\\'thoughts\\': \"The provided information identifies the 15th First Lady of the United States, Claudia Alta \\'Lady Bird\\' Johnson, and also gives the name of her mother, Minnie Lee Pattillo. This is relevant because the user needs to know the mother\\'s name of the 15th First Lady to progress in determining the future wife\\'s name. I will add this information to the aggregated list.\", \\'actions\\': [\\'ADD(P1)\\', \\'ADD(P2)\\'], \\'feedback\\': \\'Please search for information on the second assassinated president of the United States and specifically look for the name of his mother and her maiden name. This will help in identifying the surname needed for the user query. You have 8 iterations left.\\'}\\n{\\'thoughts\\': \"The content provides information about Lady Bird Johnson\\'s early life, including details about her mother, Minnie Lee Pattillo, which directly addresses the navigator\\'s search for the name of the 15th First Lady of the United States\\' mother.\", \\'paragraphs\\': [\\'Lady Bird Johnson, born Claudia Alta Taylor on December 22, 1912, was the daughter of Minnie Lee Pattillo and Thomas Jefferson Johnson Taylor. Her mother, Minnie, was often in poor emotional and physical health and died of complications from a miscarriage when Lady Bird was five years old. Minnie was described as a tall, eccentric woman from an old and aristocratic Alabama family, who loved opera and was known for her unique lifestyle.\\', \"Minnie Lee Pattillo\\'s influence on Lady Bird was significant, as she introduced her to the classics and grand opera, although she struggled with her health. Lady Bird was largely raised by her maternal aunt Effie Pattillo after her mother\\'s death, which shaped her early experiences and appreciation for beauty in nature.\"]}\\n{\\'thoughts\\': \"The provided passages further elaborate on the life of Minnie Lee Pattillo, Lady Bird Johnson\\'s mother, but they do not add new information relevant to the user query. The user query requires the surname based on the second assassinated president\\'s mother\\'s maiden name. Therefore, I will not add these passages to the aggregated information. I need to continue searching for the name of the mother and her maiden name of the second assassinated president of the United States.\", \\'actions\\': [], \\'feedback\\': \\'Please search for the second assassinated president of the United States, Abraham Lincoln, and find out the name of his mother and her maiden name. This information is crucial for completing the user query. You have 7 iterations left.\\'}\\nClaudia Alta \"Lady Bird\" Johnson (née Taylor; December 22, 1912 – July 11, 2007) was the first lady of the United States from 1963 to 1969 as the wife of President Lyndon B. Johnson. She served as the second lady from 1961 to 1963 when her husband was vice president.\\nHer mother was Minnie Lee Pattillo (1874–1918), who loved opera and felt out of place in Karnack; she was often in poor emotional and physical health. When Lady Bird was five years old, Minnie fell down a flight of stairs while pregnant and died of complications of miscarriage in 1918.'"
      ]
     },
     "execution_count": 7,
     "metadata": {},
     "output_type": "execute_result"
    }
   ],
   "source": [
    "def get_all_text(data_item):\n",
    "    messages = extract_langchain_messages(data_item)\n",
    "    messages += extract_aggregated_messages(data_item)\n",
    "    messages += data_item[\"navigator_output\"] if data_item.get(\"navigator_output\") else []\n",
    "    messages += data_item[\"aggregated_output\"] if data_item.get(\"aggregated_output\") else []\n",
    "    messages_text = \"\\n\".join(map(str, messages))\n",
    "    return messages_text\n",
    "\n",
    "get_all_text(data[0])"
   ]
  },
  {
   "cell_type": "code",
   "execution_count": 8,
   "metadata": {},
   "outputs": [
    {
     "data": {
      "text/plain": [
       "4624"
      ]
     },
     "execution_count": 8,
     "metadata": {},
     "output_type": "execute_result"
    }
   ],
   "source": [
    "len(enc.encode(get_all_text(data[0])))"
   ]
  },
  {
   "cell_type": "code",
   "execution_count": 9,
   "metadata": {},
   "outputs": [
    {
     "data": {
      "image/png": "[encoded data removed]",
      "text/plain": [
       "<Figure size 640x480 with 1 Axes>"
      ]
     },
     "metadata": {},
     "output_type": "display_data"
    }
   ],
   "source": [
    "lengths = [len(enc.encode(get_all_text(d))) for d in data]\n",
    "plt.hist(lengths, bins=100)\n",
    "plt.show()\n"
   ]
  },
  {
   "cell_type": "code",
   "execution_count": 10,
   "metadata": {},
   "outputs": [
    {
     "data": {
      "text/plain": [
       "4700.098360655737"
      ]
     },
     "execution_count": 10,
     "metadata": {},
     "output_type": "execute_result"
    }
   ],
   "source": [
    "np.mean(lengths)"
   ]
  }
 ],
 "metadata": {
  "kernelspec": {
   "display_name": "now-llm-eval",
   "language": "python",
   "name": "python3"
  },
  "language_info": {
   "codemirror_mode": {
    "name": "ipython",
    "version": 3
   },
   "file_extension": ".py",
   "mimetype": "text/x-python",
   "name": "python",
   "nbconvert_exporter": "python",
   "pygments_lexer": "ipython3",
   "version": "3.10.13"
  }
 },
 "nbformat": 4,
 "nbformat_minor": 2
}
